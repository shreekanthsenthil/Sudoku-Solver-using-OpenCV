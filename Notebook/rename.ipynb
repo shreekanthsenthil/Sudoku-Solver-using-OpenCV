{
 "cells": [
  {
   "cell_type": "code",
   "execution_count": 2,
   "metadata": {},
   "outputs": [],
   "source": [
    "import os\n",
    "import pytesseract\n",
    "import cv2 as cv\n",
    "from PIL import Image"
   ]
  },
  {
   "cell_type": "code",
   "execution_count": 3,
   "metadata": {},
   "outputs": [],
   "source": [
    "def rename(path,num,i):\n",
    "    imlist = [os.path.join(path,f) for f in os.listdir(path)]\n",
    "    for imname in imlist:\n",
    "        os.rename(imname,'ocr_data/training/'+str(num)+\"_\"+str(i)+\".jpg\")\n",
    "        i += 1"
   ]
  },
  {
   "cell_type": "code",
   "execution_count": 11,
   "metadata": {},
   "outputs": [],
   "source": [
    "rename('ocr_data/Sample002/', 1, 354)"
   ]
  },
  {
   "cell_type": "code",
   "execution_count": 5,
   "metadata": {},
   "outputs": [],
   "source": [
    "rename('ocr_data/Sample_0/', 0, 148)\n",
    "rename('ocr_data/Sample_1/', 1, 275)\n",
    "rename('ocr_data/Sample_2/', 2, 269)\n",
    "rename('ocr_data/Sample_3/', 3, 272)\n",
    "rename('ocr_data/Sample_4/', 4, 263)\n",
    "rename('ocr_data/Sample_5/', 5, 256)\n",
    "rename('ocr_data/Sample_6/', 6, 261)\n",
    "rename('ocr_data/Sample_7/', 7, 260)\n",
    "rename('ocr_data/Sample_8/', 8, 297)\n",
    "rename('ocr_data/Sample_9/', 9, 312)"
   ]
  },
  {
   "cell_type": "code",
   "execution_count": 44,
   "metadata": {},
   "outputs": [
    {
     "name": "stdout",
     "output_type": "stream",
     "text": [
      "9\n"
     ]
    }
   ],
   "source": [
    "temp2 = cv.imread('ocr_data/training/9_340')\n",
    "ocr_result = pytesseract.image_to_string(temp2, lang='eng',config='--psm 10 --oem 3 -c tessedit_char_whitelist=0123456789')\n",
    "print(ocr_result)"
   ]
  },
  {
   "cell_type": "code",
   "execution_count": null,
   "metadata": {},
   "outputs": [],
   "source": []
  }
 ],
 "metadata": {
  "kernelspec": {
   "display_name": "Python 3",
   "language": "python",
   "name": "python3"
  },
  "language_info": {
   "codemirror_mode": {
    "name": "ipython",
    "version": 3
   },
   "file_extension": ".py",
   "mimetype": "text/x-python",
   "name": "python",
   "nbconvert_exporter": "python",
   "pygments_lexer": "ipython3",
   "version": "3.6.9"
  }
 },
 "nbformat": 4,
 "nbformat_minor": 4
}
